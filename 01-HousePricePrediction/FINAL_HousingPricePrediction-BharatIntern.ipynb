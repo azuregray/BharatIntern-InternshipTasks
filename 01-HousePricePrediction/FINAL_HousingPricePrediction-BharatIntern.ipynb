{
  "nbformat": 4,
  "nbformat_minor": 0,
  "metadata": {
    "colab": {
      "provenance": []
    },
    "kernelspec": {
      "name": "python3",
      "display_name": "Python 3"
    },
    "language_info": {
      "name": "python"
    }
  },
  "cells": [
    {
      "cell_type": "markdown",
      "source": [
        "# Hi, I am Darshan S.\n",
        "### Machine Learning Intern at Bharat Intern\n",
        "\n",
        "> ### *I recommend Bharat Intern. Check it out at:*\n",
        "```\n",
        "https://bharatintern.live/\n",
        "```\n",
        "\n",
        "# **Task 1: Housing Price Prediction**\n",
        "### Problem Description is as follows:\n",
        "```\n",
        "Build a housing price prediction model that can overcome\n",
        "the strong multicollinearity that this dataset holds and\n",
        "predict the sales with respect to a single or multiple features\n",
        "as selected by the user (input received from user) along with the\n",
        "functionality of generating R2, RMSE scores of the model's operation.\n",
        "```\n",
        "### Structure of Dataset:\n",
        "```\n",
        "Dataset is a file data.csv in CSV format with column labels namely:\n",
        "```\n",
        "\n",
        "> ```price```: *Contains the price of a house.*\n",
        "\n",
        "> ```area```: *numeric value in sq. ft. units.*\n",
        "\n",
        "> ```bedrooms```: *numeric value indicating number of bedrooms in the house.*\n",
        "\n",
        "> ```bathrooms```: *number of bathrooms in the house.*\n",
        "\n",
        "> ```stories```: *Number of stories the complete house spans.*\n",
        "\n",
        "> ```mainroad```: *boolean yes or no indicating if the house is connected to a main road.*\n",
        "\n",
        "> ```guestroom```: *boolean value yes or no indicating whether the house includes guest room or not.*\n",
        "\n",
        "> ```basement```: *boolean value yes or no indicating whether the house includes basement area or not.*\n",
        "\n",
        "> ```hotwaterheating```: *boolean value yes or no indicating whether the house includes hot water heating facility or not.*\n",
        "\n",
        "> ```airconditioning```: *boolean value yes or no indicating whether the house includes air conditioning or not.*\n",
        "\n",
        "> ```parking```: *indicating the number of cars can be parked in the parking area present.*\n",
        "\n",
        "> ```prefarea```: *boolean value indicating the house includes a prefarea.*\n",
        "\n",
        "> ```furnishingstatus```: *indicating the furnishing status of the house - furnished, semi-furnished or unfurnished.*\n",
        "\n"
      ],
      "metadata": {
        "id": "iFPA2Tr2y5T4"
      }
    },
    {
      "cell_type": "code",
      "source": [
        "# Import necessary libraries\n",
        "import pandas\n",
        "from sklearn.model_selection import train_test_split\n",
        "from sklearn.linear_model import LinearRegression\n",
        "from sklearn.metrics import r2_score, mean_squared_error\n",
        "import matplotlib.pyplot as plt"
      ],
      "metadata": {
        "id": "MyxBAwuD0cRY"
      },
      "execution_count": 14,
      "outputs": []
    },
    {
      "cell_type": "code",
      "source": [
        "# Load the dataset\n",
        "file_path = 'data.csv'\n",
        "data = pandas.read_csv(file_path)\n",
        "\n",
        "# Display the available features to the user\n",
        "print(\"Available Features:\")\n",
        "print(\"\\n\".join(data.columns))"
      ],
      "metadata": {
        "id": "dpEZkIQE0oY2",
        "colab": {
          "base_uri": "https://localhost:8080/"
        },
        "outputId": "e0a508d0-0e13-4115-a8b0-95900aae4278"
      },
      "execution_count": 15,
      "outputs": [
        {
          "output_type": "stream",
          "name": "stdout",
          "text": [
            "Available Features:\n",
            "price\n",
            "area\n",
            "bedrooms\n",
            "bathrooms\n",
            "stories\n",
            "mainroad\n",
            "guestroom\n",
            "basement\n",
            "hotwaterheating\n",
            "airconditioning\n",
            "parking\n",
            "prefarea\n",
            "furnishingstatus\n"
          ]
        }
      ]
    },
    {
      "cell_type": "code",
      "execution_count": 16,
      "metadata": {
        "id": "6WXzf-Mkywfx",
        "colab": {
          "base_uri": "https://localhost:8080/",
          "height": 524
        },
        "outputId": "dffc6a40-951f-4408-ac20-15c50009cf17"
      },
      "outputs": [
        {
          "output_type": "stream",
          "name": "stdout",
          "text": [
            "Enter the features you want to use for prediction (comma-separated): bedrooms,guestroom\n",
            "R2 Score: 0.1512510022111574\n",
            "RMSE: 2071246.3472149146\n"
          ]
        },
        {
          "output_type": "display_data",
          "data": {
            "text/plain": [
              "<Figure size 640x480 with 1 Axes>"
            ],
            "image/png": "[encoded data removed]"
          },
          "metadata": {}
        }
      ],
      "source": [
        "# Preprocessing: Convert boolean values to 0 and 1\n",
        "bool_cols = ['mainroad', 'guestroom', 'basement', 'hotwaterheating', 'airconditioning', 'prefarea']\n",
        "data[bool_cols] = data[bool_cols].apply(lambda x: x.map({'yes': 1, 'no': 0}))\n",
        "\n",
        "# Convert furnishingstatus to numerical using one-hot encoding\n",
        "data = pandas.get_dummies(data, columns=['furnishingstatus'], drop_first=True)\n",
        "\n",
        "# Let the user choose features\n",
        "selected_features = input(\"Enter the features you want to use for prediction (comma-separated): \")\n",
        "selected_features = selected_features.split(',')\n",
        "\n",
        "# Define X (features) and y (target)\n",
        "X = data[selected_features]\n",
        "y = data['price']\n",
        "\n",
        "# Split the dataset into training and testing sets\n",
        "X_train, X_test, y_train, y_test = train_test_split(X, y, test_size=0.2, random_state=42)\n",
        "\n",
        "# Train the linear regression model\n",
        "model = LinearRegression()\n",
        "model.fit(X_train, y_train)\n",
        "\n",
        "# Make predictions on the test set\n",
        "y_pred = model.predict(X_test)\n",
        "\n",
        "# Evaluate the model\n",
        "r2 = r2_score(y_test, y_pred)\n",
        "rmse = mean_squared_error(y_test, y_pred, squared=False)\n",
        "\n",
        "# Display R2 and RMSE scores\n",
        "print(f'R2 Score: {r2}')\n",
        "print(f'RMSE: {rmse}')\n",
        "\n",
        "# Plot the actual vs predicted values\n",
        "plt.scatter(y_test, y_pred)\n",
        "plt.xlabel(\"Actual Prices\")\n",
        "plt.ylabel(\"Predicted Prices\")\n",
        "plt.title(\"Actual vs Predicted House Prices\")\n",
        "plt.show()\n"
      ]
    }
  ]
}