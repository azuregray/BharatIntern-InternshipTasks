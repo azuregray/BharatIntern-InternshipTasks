{
 "cells": [
  {
   "cell_type": "code",
   "execution_count": 20,
   "id": "0c8ce045-971b-4484-af68-604f2c136480",
   "metadata": {},
   "outputs": [],
   "source": [
    "# Import necessary libraries\n",
    "import pandas\n",
    "from sklearn.model_selection import train_test_split\n",
    "from sklearn.ensemble import RandomForestClassifier\n",
    "from sklearn.metrics import r2_score, mean_squared_error\n",
    "from sklearn.preprocessing import LabelEncoder"
   ]
  },
  {
   "cell_type": "code",
   "execution_count": 21,
   "id": "85c30ee9-0f81-4236-a6a4-33e5d7dce6f9",
   "metadata": {},
   "outputs": [
    {
     "name": "stdout",
     "output_type": "stream",
     "text": [
      "\n",
      "R2 Score: 1.0000\n",
      "Root Mean Squared Error (RMSE): 0.0000\n"
     ]
    }
   ],
   "source": [
    "# Load the dataset\n",
    "df = pandas.read_csv('IRIS.csv')\n",
    "\n",
    "# Extract features and target variable\n",
    "X = df.drop('species', axis=1)\n",
    "y = df['species']\n",
    "\n",
    "# Encode the target variable\n",
    "le = LabelEncoder()\n",
    "y_encoded = le.fit_transform(y)\n",
    "\n",
    "# Split the data into training and testing sets\n",
    "X_train, X_test, y_train, y_test = train_test_split(X, y_encoded, test_size=0.2, random_state=42)\n",
    "\n",
    "# Initialize the RandomForestClassifier with feature names\n",
    "model = RandomForestClassifier(n_estimators=100, random_state=42)\n",
    "model.fit(X_train, y_train)\n",
    "\n",
    "# Evaluate the model on the test set\n",
    "y_pred = model.predict(X_test)\n",
    "\n",
    "# Calculate R2 score\n",
    "r2 = r2_score(y_test, y_pred)\n",
    "\n",
    "# Calculate RMSE\n",
    "rmse = mean_squared_error(y_test, y_pred, squared=False)\n",
    "\n",
    "# Display the results\n",
    "print(f\"\\nR2 Score: {r2:.4f}\")\n",
    "print(f\"Root Mean Squared Error (RMSE): {rmse:.4f}\")"
   ]
  },
  {
   "cell_type": "code",
   "execution_count": 22,
   "id": "dc6cd672-29d1-49e3-9c14-10d696947122",
   "metadata": {},
   "outputs": [
    {
     "name": "stdin",
     "output_type": "stream",
     "text": [
      "Enter sepal length in cm:  6\n",
      "Enter sepal width in cm:  5\n",
      "Enter petal length in cm:  3\n",
      "Enter petal width in cm:  2\n"
     ]
    },
    {
     "name": "stdout",
     "output_type": "stream",
     "text": [
      "\n",
      "The predicted species for the given input is: Iris-versicolor\n"
     ]
    }
   ],
   "source": [
    "# User input for prediction\n",
    "sepal_length = float(input(\"Enter sepal length in cm: \"))\n",
    "sepal_width = float(input(\"Enter sepal width in cm: \"))\n",
    "petal_length = float(input(\"Enter petal length in cm: \"))\n",
    "petal_width = float(input(\"Enter petal width in cm: \"))\n",
    "\n",
    "# Make a prediction with feature names\n",
    "input_data = pandas.DataFrame([[sepal_length, sepal_width, petal_length, petal_width]], columns=X.columns)\n",
    "prediction_encoded = model.predict(input_data)[0]\n",
    "\n",
    "# Decode the predicted label\n",
    "predicted_species = le.inverse_transform([prediction_encoded])[0]\n",
    "\n",
    "# Display the predicted species\n",
    "print(f\"\\nThe most appropriate species for the given values is: {predicted_species}\")\n"
   ]
  }
 ],
 "metadata": {
  "kernelspec": {
   "display_name": "Python 3 (ipykernel)",
   "language": "python",
   "name": "python3"
  },
  "language_info": {
   "codemirror_mode": {
    "name": "ipython",
    "version": 3
   },
   "file_extension": ".py",
   "mimetype": "text/x-python",
   "name": "python",
   "nbconvert_exporter": "python",
   "pygments_lexer": "ipython3",
   "version": "3.12.0"
  }
 },
 "nbformat": 4,
 "nbformat_minor": 5
}
